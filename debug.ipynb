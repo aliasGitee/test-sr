{
 "cells": [
  {
   "cell_type": "code",
   "execution_count": 1,
   "metadata": {},
   "outputs": [
    {
     "data": {
      "text/plain": [
       "torch.Size([1, 3, 3, 3])"
      ]
     },
     "execution_count": 1,
     "metadata": {},
     "output_type": "execute_result"
    }
   ],
   "source": [
    "import torch\n",
    "import torch.nn as nn\n",
    "import torch.nn.functional as F\n",
    "\n",
    "x = torch.randn(1,3,9,9)\n",
    "y = F.interpolate(x,size=3,mode='bilinear')\n",
    "y.shape"
   ]
  },
  {
   "cell_type": "code",
   "execution_count": 22,
   "metadata": {},
   "outputs": [
    {
     "name": "stdout",
     "output_type": "stream",
     "text": [
      "torch.Size([3, 1, 6, 6])\n"
     ]
    }
   ],
   "source": [
    "a = torch.randn(1,3,2,2)\n",
    "model = nn.ConvTranspose2d(in_channels=3,out_channels=1,kernel_size=6,stride=2,padding=2)\n",
    "print(model.weight.shape)"
   ]
  },
  {
   "cell_type": "code",
   "execution_count": 24,
   "metadata": {},
   "outputs": [
    {
     "name": "stdout",
     "output_type": "stream",
     "text": [
      "torch.Size([3, 1, 1, 1])\n"
     ]
    }
   ],
   "source": [
    "model2 = nn.Conv2d(in_channels=1,out_channels=3,stride=1,kernel_size=1,padding=0)\n",
    "print(model2.weight.shape)"
   ]
  },
  {
   "cell_type": "code",
   "execution_count": 25,
   "metadata": {},
   "outputs": [
    {
     "name": "stdout",
     "output_type": "stream",
     "text": [
      "torch.Size([1, 16, 192, 192])\n"
     ]
    }
   ],
   "source": [
    "model = nn.ConvTranspose2d(in_channels=3,out_channels=16,kernel_size=4*2,stride=4,padding=4//2)\n",
    "x = torch.randn(1,3,48,48)\n",
    "print(model(x).shape)"
   ]
  },
  {
   "cell_type": "code",
   "execution_count": 7,
   "metadata": {},
   "outputs": [
    {
     "name": "stdout",
     "output_type": "stream",
     "text": [
      "torch.Size([1, 3, 48, 48])\n"
     ]
    }
   ],
   "source": [
    "model = nn.Conv2d(in_channels=3,out_channels=3,kernel_size=3,stride=1,padding=2,dilation=2)\n",
    "x=torch.randn(1,3,48,48)\n",
    "print(model(x).shape)"
   ]
  }
 ],
 "metadata": {
  "kernelspec": {
   "display_name": "BasicSR",
   "language": "python",
   "name": "python3"
  },
  "language_info": {
   "codemirror_mode": {
    "name": "ipython",
    "version": 3
   },
   "file_extension": ".py",
   "mimetype": "text/x-python",
   "name": "python",
   "nbconvert_exporter": "python",
   "pygments_lexer": "ipython3",
   "version": "3.9.18"
  }
 },
 "nbformat": 4,
 "nbformat_minor": 2
}
