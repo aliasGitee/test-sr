{
 "cells": [
  {
   "cell_type": "code",
   "execution_count": 1,
   "metadata": {},
   "outputs": [
    {
     "data": {
      "text/plain": [
       "torch.Size([1, 3, 3, 3])"
      ]
     },
     "execution_count": 1,
     "metadata": {},
     "output_type": "execute_result"
    }
   ],
   "source": [
    "import torch\n",
    "import torch.nn as nn\n",
    "import torch.nn.functional as F\n",
    "\n",
    "x = torch.randn(1,3,9,9)\n",
    "y = F.interpolate(x,size=3,mode='bilinear')\n",
    "y.shape"
   ]
  },
  {
   "cell_type": "code",
   "execution_count": 22,
   "metadata": {},
   "outputs": [
    {
     "name": "stdout",
     "output_type": "stream",
     "text": [
      "torch.Size([3, 1, 6, 6])\n"
     ]
    }
   ],
   "source": [
    "a = torch.randn(1,3,2,2)\n",
    "model = nn.ConvTranspose2d(in_channels=3,out_channels=1,kernel_size=6,stride=2,padding=2)\n",
    "print(model.weight.shape)"
   ]
  },
  {
   "cell_type": "code",
   "execution_count": 24,
   "metadata": {},
   "outputs": [
    {
     "name": "stdout",
     "output_type": "stream",
     "text": [
      "torch.Size([3, 1, 1, 1])\n"
     ]
    }
   ],
   "source": [
    "model2 = nn.Conv2d(in_channels=1,out_channels=3,stride=1,kernel_size=1,padding=0)\n",
    "print(model2.weight.shape)"
   ]
  },
  {
   "cell_type": "code",
   "execution_count": 25,
   "metadata": {},
   "outputs": [
    {
     "name": "stdout",
     "output_type": "stream",
     "text": [
      "torch.Size([1, 16, 192, 192])\n"
     ]
    }
   ],
   "source": [
    "model = nn.ConvTranspose2d(in_channels=3,out_channels=16,kernel_size=4*2,stride=4,padding=4//2)\n",
    "x = torch.randn(1,3,48,48)\n",
    "print(model(x).shape)"
   ]
  },
  {
   "cell_type": "code",
   "execution_count": 36,
   "metadata": {},
   "outputs": [
    {
     "name": "stdout",
     "output_type": "stream",
     "text": [
      "torch.Size([1, 3, 46, 46])\n"
     ]
    }
   ],
   "source": [
    "model = nn.Conv2d(in_channels=3,out_channels=3,kernel_size=3,stride=1,padding=2,dilation=2)\n",
    "x=torch.randn(1,3,48,48)\n",
    "print(model(x).shape)"
   ]
  },
  {
   "cell_type": "code",
   "execution_count": 7,
   "metadata": {},
   "outputs": [
    {
     "data": {
      "text/plain": [
       "tensor([[0.0324, 0.0023, 0.0108, 0.0072],\n",
       "        [0.0022, 0.0063, 0.0203, 0.0887],\n",
       "        [0.0059, 0.0009, 0.0041, 0.0295],\n",
       "        [0.0153, 0.0057, 0.0821, 0.0229]])"
      ]
     },
     "execution_count": 7,
     "metadata": {},
     "output_type": "execute_result"
    }
   ],
   "source": [
    "x = torch.randn(1,64,4,4)\n",
    "y = F.softmax(x,dim=1)\n",
    "y[0,0,:,:]"
   ]
  },
  {
   "cell_type": "code",
   "execution_count": 19,
   "metadata": {},
   "outputs": [
    {
     "name": "stdout",
     "output_type": "stream",
     "text": [
      "tensor([[[[ 0.7692,  0.8337]],\n",
      "\n",
      "         [[-0.7597,  1.2409]],\n",
      "\n",
      "         [[-0.2799, -0.4478]],\n",
      "\n",
      "         [[-1.6583,  0.8637]],\n",
      "\n",
      "         [[-0.2476, -1.6542]],\n",
      "\n",
      "         [[-1.2074,  1.1537]]]])\n",
      "tensor([[[[ 0.7692,  0.8337]],\n",
      "\n",
      "         [[-1.6583,  0.8637]],\n",
      "\n",
      "         [[-0.7597,  1.2409]],\n",
      "\n",
      "         [[-0.2476, -1.6542]],\n",
      "\n",
      "         [[-0.2799, -0.4478]],\n",
      "\n",
      "         [[-1.2074,  1.1537]]]])\n"
     ]
    }
   ],
   "source": [
    "a = torch.randn(1,6,1,2)\n",
    "print(a)\n",
    "b = F.channel_shuffle(a,2)\n",
    "print(b)"
   ]
  },
  {
   "cell_type": "code",
   "execution_count": 27,
   "metadata": {},
   "outputs": [
    {
     "data": {
      "text/plain": [
       "torch.Size([1, 4, 4, 10])"
      ]
     },
     "execution_count": 27,
     "metadata": {},
     "output_type": "execute_result"
    }
   ],
   "source": [
    "x = torch.randn(1,4,4,9)\n",
    "y = F.pad(x, (0,1), mode=\"constant\", value=1)\n",
    "y.shape"
   ]
  },
  {
   "cell_type": "code",
   "execution_count": 37,
   "metadata": {},
   "outputs": [
    {
     "ename": "AttributeError",
     "evalue": "'Tensor' object has no attribute 'float16'",
     "output_type": "error",
     "traceback": [
      "\u001b[0;31m---------------------------------------------------------------------------\u001b[0m",
      "\u001b[0;31mAttributeError\u001b[0m                            Traceback (most recent call last)",
      "Cell \u001b[0;32mIn[37], line 1\u001b[0m\n\u001b[0;32m----> 1\u001b[0m a \u001b[38;5;241m=\u001b[39m \u001b[43mtorch\u001b[49m\u001b[38;5;241;43m.\u001b[39;49m\u001b[43mrandn\u001b[49m\u001b[43m(\u001b[49m\u001b[38;5;241;43m1\u001b[39;49m\u001b[43m,\u001b[49m\u001b[38;5;241;43m12\u001b[39;49m\u001b[43m,\u001b[49m\u001b[38;5;241;43m1\u001b[39;49m\u001b[43m,\u001b[49m\u001b[38;5;241;43m1\u001b[39;49m\u001b[43m)\u001b[49m\u001b[38;5;241;43m.\u001b[39;49m\u001b[43mfloat16\u001b[49m()\n\u001b[1;32m      2\u001b[0m a\n",
      "\u001b[0;31mAttributeError\u001b[0m: 'Tensor' object has no attribute 'float16'"
     ]
    }
   ],
   "source": [
    "a = torch.randn(1,12,1,1).float16()\n",
    "a"
   ]
  },
  {
   "cell_type": "code",
   "execution_count": 38,
   "metadata": {},
   "outputs": [
    {
     "name": "stdout",
     "output_type": "stream",
     "text": [
      "tensor([[[-0.0074, -1.7223,  1.5647, -0.0307],\n",
      "         [ 0.2083,  1.2695, -0.5241, -1.5483]]])\n",
      "torch.return_types.topk(\n",
      "values=tensor([[[ 1.5647, -0.0074],\n",
      "         [ 1.2695,  0.2083]]]),\n",
      "indices=tensor([[[2, 0],\n",
      "         [1, 0]]]))\n"
     ]
    }
   ],
   "source": [
    "a = torch.randn(1,2,4)\n",
    "b = torch.topk(a,k=2,dim=2)\n",
    "print(a)\n",
    "print(b)"
   ]
  },
  {
   "cell_type": "code",
   "execution_count": 44,
   "metadata": {},
   "outputs": [
    {
     "data": {
      "text/plain": [
       "torch.Size([1, 3, 48, 48])"
      ]
     },
     "execution_count": 44,
     "metadata": {},
     "output_type": "execute_result"
    }
   ],
   "source": [
    "a = torch.randn(1,3*16,12,12)\n",
    "F.pixel_shuffle(a,upscale_factor=4).shape"
   ]
  },
  {
   "cell_type": "code",
   "execution_count": 52,
   "metadata": {},
   "outputs": [
    {
     "data": {
      "text/plain": [
       "torch.Size([6, 2, 1, 1])"
      ]
     },
     "execution_count": 52,
     "metadata": {},
     "output_type": "execute_result"
    }
   ],
   "source": [
    "model = nn.Conv2d(in_channels=6,out_channels=6,kernel_size=1,groups=3)\n",
    "a=torch.randn(1,6,2,2)\n",
    "model.weight.shape\n"
   ]
  },
  {
   "cell_type": "code",
   "execution_count": 56,
   "metadata": {},
   "outputs": [
    {
     "data": {
      "text/plain": [
       "tensor([[[[ 2.1513,  0.7702],\n",
       "          [ 0.2443,  0.0759]],\n",
       "\n",
       "         [[ 4.3026,  1.5404],\n",
       "          [ 0.4887,  0.1517]],\n",
       "\n",
       "         [[ 6.8957, -2.7130],\n",
       "          [-1.1354, -3.7653]],\n",
       "\n",
       "         [[ 9.1942, -3.6173],\n",
       "          [-1.5139, -5.0204]],\n",
       "\n",
       "         [[ 6.4053,  5.6710],\n",
       "          [ 1.2167, -5.3678]],\n",
       "\n",
       "         [[ 7.6864,  6.8052],\n",
       "          [ 1.4600, -6.4413]]]])"
      ]
     },
     "execution_count": 56,
     "metadata": {},
     "output_type": "execute_result"
    }
   ],
   "source": [
    "\n",
    "w = torch.tensor([[[[1]],[[1]]],\n",
    "                  [[[2]],[[2]]],\n",
    "                  [[[3]],[[3]]],\n",
    "                  [[[4]],[[4]]],\n",
    "                  [[[5]],[[5]]],\n",
    "                  [[[6]],[[6]]]]).float()\n",
    "x = torch.randn(1,6,2,2)\n",
    "F.conv2d(x,weight=w,groups=3)"
   ]
  },
  {
   "cell_type": "code",
   "execution_count": 57,
   "metadata": {},
   "outputs": [
    {
     "data": {
      "text/plain": [
       "tensor([[[[ 1.0122, -0.2299],\n",
       "          [-0.4805,  0.3924]],\n",
       "\n",
       "         [[ 1.1391,  1.0001],\n",
       "          [ 0.7249, -0.3166]],\n",
       "\n",
       "         [[ 1.0646, -0.1734],\n",
       "          [-0.0793, -0.3979]],\n",
       "\n",
       "         [[ 1.2340, -0.7309],\n",
       "          [-0.2992, -0.8571]],\n",
       "\n",
       "         [[ 0.6578,  0.5802],\n",
       "          [-0.9655, -0.3521]],\n",
       "\n",
       "         [[ 0.6233,  0.5540],\n",
       "          [ 1.2088, -0.7214]]]])"
      ]
     },
     "execution_count": 57,
     "metadata": {},
     "output_type": "execute_result"
    }
   ],
   "source": [
    "x"
   ]
  },
  {
   "cell_type": "code",
   "execution_count": null,
   "metadata": {},
   "outputs": [],
   "source": []
  }
 ],
 "metadata": {
  "kernelspec": {
   "display_name": "BasicSR",
   "language": "python",
   "name": "python3"
  },
  "language_info": {
   "codemirror_mode": {
    "name": "ipython",
    "version": 3
   },
   "file_extension": ".py",
   "mimetype": "text/x-python",
   "name": "python",
   "nbconvert_exporter": "python",
   "pygments_lexer": "ipython3",
   "version": "3.9.18"
  }
 },
 "nbformat": 4,
 "nbformat_minor": 2
}
