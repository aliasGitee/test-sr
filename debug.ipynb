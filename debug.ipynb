{
 "cells": [
  {
   "cell_type": "code",
   "execution_count": 42,
   "metadata": {},
   "outputs": [],
   "source": [
    "import torch\n",
    "import torch.nn as nn\n",
    "import torch.nn.functional as F\n",
    "from einops import rearrange\n"
   ]
  },
  {
   "cell_type": "code",
   "execution_count": 47,
   "metadata": {},
   "outputs": [
    {
     "name": "stdout",
     "output_type": "stream",
     "text": [
      "torch.Size([1, 4, 9, 3])\n"
     ]
    }
   ],
   "source": [
    "x = torch.randn(1,3,6,6)\n",
    "#print(x)\n",
    "b,c,h,w = x.shape\n",
    "n_w,n_h=2,2\n",
    "\n",
    "y = F.unfold(x,kernel_size=(h//n_h, w//n_w),stride=(h//n_h, w//n_w))\n",
    "y = y.transpose(1,2).reshape(1,n_w*n_h,c,(h*w)//(n_h*n_w)).transpose(2,3)\n",
    "print(y.shape)\n",
    "# z = rearrange(x, \"n (j h) (i w) c -> n (j i) h w c\", j=n_h, i=n_w)\n",
    "# print(z.shape)"
   ]
  },
  {
   "cell_type": "code",
   "execution_count": 55,
   "metadata": {},
   "outputs": [
    {
     "data": {
      "text/plain": [
       "-0.28976666666666673"
      ]
     },
     "execution_count": 55,
     "metadata": {},
     "output_type": "execute_result"
    }
   ],
   "source": [
    "y"
   ]
  },
  {
   "cell_type": "code",
   "execution_count": 54,
   "metadata": {},
   "outputs": [
    {
     "data": {
      "text/plain": [
       "tensor([[[-0.2898, -0.1277, -0.1337],\n",
       "         [-0.3539, -0.3940, -0.2608],\n",
       "         [-0.4693, -0.2980,  0.2554],\n",
       "         [ 0.3358,  0.0323,  0.2262]]])"
      ]
     },
     "execution_count": 54,
     "metadata": {},
     "output_type": "execute_result"
    }
   ],
   "source": [
    "torch.mean(y,dim=2)"
   ]
  },
  {
   "cell_type": "code",
   "execution_count": 56,
   "metadata": {},
   "outputs": [
    {
     "data": {
      "text/plain": [
       "tensor([[[-0.2898, -0.1277, -0.1337],\n",
       "         [-0.3539, -0.3940, -0.2608],\n",
       "         [-0.4693, -0.2980,  0.2554],\n",
       "         [ 0.3358,  0.0323,  0.2262]]])"
      ]
     },
     "execution_count": 56,
     "metadata": {},
     "output_type": "execute_result"
    }
   ],
   "source": [
    "y.mean(dim=2)"
   ]
  },
  {
   "cell_type": "code",
   "execution_count": 67,
   "metadata": {},
   "outputs": [
    {
     "name": "stdout",
     "output_type": "stream",
     "text": [
      "tensor([[[-0.5991,  0.7648, -0.5720,  2.0479, -1.6885,  0.1651],\n",
      "         [ 0.6715,  0.8674, -1.2236,  0.0321,  1.2687, -1.7453],\n",
      "         [ 0.4149,  1.0493,  1.3574, -1.3188, -0.9084, -0.9562],\n",
      "         [ 1.5739,  0.4355,  1.2332,  0.6527,  0.0653, -2.0187],\n",
      "         [ 2.2451, -0.4708,  1.0639, -1.2613,  0.9120,  1.8629],\n",
      "         [-0.6142, -1.0106, -0.5500,  0.5309,  0.7194, -0.9959]]])\n",
      "torch.return_types.topk(\n",
      "values=tensor([[[ 2.0479,  0.7648,  0.1651],\n",
      "         [ 1.2687,  0.8674,  0.6715],\n",
      "         [ 1.3574,  1.0493,  0.4149],\n",
      "         [ 1.5739,  1.2332,  0.6527],\n",
      "         [ 2.2451,  1.8629,  1.0639],\n",
      "         [ 0.7194,  0.5309, -0.5500]]]),\n",
      "indices=tensor([[[3, 1, 5],\n",
      "         [4, 1, 0],\n",
      "         [2, 1, 0],\n",
      "         [0, 2, 3],\n",
      "         [0, 5, 2],\n",
      "         [4, 3, 2]]]))\n"
     ]
    }
   ],
   "source": [
    "a = torch.randn(1,6,6)\n",
    "b = torch.randn(1,6,2,3)\n",
    "print(a)\n",
    "print(torch.topk(a,k=3,dim=2))\n",
    "index = torch.topk(a,k=3,dim=2).indices"
   ]
  },
  {
   "cell_type": "code",
   "execution_count": 68,
   "metadata": {},
   "outputs": [
    {
     "name": "stdout",
     "output_type": "stream",
     "text": [
      "tensor([[[[ 1.1312, -2.0286, -1.1819],\n",
      "          [ 0.9590, -0.1457, -0.7932]],\n",
      "\n",
      "         [[ 0.8317,  0.0247, -0.8975],\n",
      "          [ 2.2067,  1.8521,  1.0173]],\n",
      "\n",
      "         [[ 0.7001, -0.8354,  0.3814],\n",
      "          [ 0.4911,  1.3858,  0.1873]],\n",
      "\n",
      "         [[ 1.5381, -0.8013, -0.5527],\n",
      "          [ 1.2489,  0.2170, -0.8703]],\n",
      "\n",
      "         [[-0.2474, -0.4907,  0.0487],\n",
      "          [-1.3639,  0.3985, -0.0991]],\n",
      "\n",
      "         [[-2.2651,  0.0506, -0.0028],\n",
      "          [-0.5266,  1.2990, -0.6306]]]])\n"
     ]
    }
   ],
   "source": [
    "print(b) #(1,6,2,3)"
   ]
  },
  {
   "cell_type": "code",
   "execution_count": 71,
   "metadata": {},
   "outputs": [
    {
     "name": "stdout",
     "output_type": "stream",
     "text": [
      "tensor([[[[ 1.5381, -0.8013, -0.5527],\n",
      "          [ 1.2489,  0.2170, -0.8703],\n",
      "          [ 0.8317,  0.0247, -0.8975],\n",
      "          [ 2.2067,  1.8521,  1.0173],\n",
      "          [-2.2651,  0.0506, -0.0028],\n",
      "          [-0.5266,  1.2990, -0.6306]],\n",
      "\n",
      "         [[-0.2474, -0.4907,  0.0487],\n",
      "          [-1.3639,  0.3985, -0.0991],\n",
      "          [ 0.8317,  0.0247, -0.8975],\n",
      "          [ 2.2067,  1.8521,  1.0173],\n",
      "          [ 1.1312, -2.0286, -1.1819],\n",
      "          [ 0.9590, -0.1457, -0.7932]],\n",
      "\n",
      "         [[ 0.7001, -0.8354,  0.3814],\n",
      "          [ 0.4911,  1.3858,  0.1873],\n",
      "          [ 0.8317,  0.0247, -0.8975],\n",
      "          [ 2.2067,  1.8521,  1.0173],\n",
      "          [ 1.1312, -2.0286, -1.1819],\n",
      "          [ 0.9590, -0.1457, -0.7932]],\n",
      "\n",
      "         [[ 1.1312, -2.0286, -1.1819],\n",
      "          [ 0.9590, -0.1457, -0.7932],\n",
      "          [ 0.7001, -0.8354,  0.3814],\n",
      "          [ 0.4911,  1.3858,  0.1873],\n",
      "          [ 1.5381, -0.8013, -0.5527],\n",
      "          [ 1.2489,  0.2170, -0.8703]],\n",
      "\n",
      "         [[ 1.1312, -2.0286, -1.1819],\n",
      "          [ 0.9590, -0.1457, -0.7932],\n",
      "          [-2.2651,  0.0506, -0.0028],\n",
      "          [-0.5266,  1.2990, -0.6306],\n",
      "          [ 0.7001, -0.8354,  0.3814],\n",
      "          [ 0.4911,  1.3858,  0.1873]],\n",
      "\n",
      "         [[-0.2474, -0.4907,  0.0487],\n",
      "          [-1.3639,  0.3985, -0.0991],\n",
      "          [ 1.5381, -0.8013, -0.5527],\n",
      "          [ 1.2489,  0.2170, -0.8703],\n",
      "          [ 0.7001, -0.8354,  0.3814],\n",
      "          [ 0.4911,  1.3858,  0.1873]]]])\n"
     ]
    }
   ],
   "source": [
    "inner_list = []\n",
    "for i in index[0]:\n",
    "    inner = b[:, i ,:,:].reshape(1,1,6,3)\n",
    "    inner_list.append(inner)\n",
    "print(torch.cat(inner_list,dim=1))\n",
    "\n",
    "\n",
    "# c = b[:,[1,5,0],:,:].reshape(1,1,6,3)\n",
    "# d = b[:,[0,1,4],:,:].reshape(1,1,6,3)\n",
    "# out = torch.cat([c,d],dim=1)\n",
    "# print(out)\n",
    "# print(c.shape)"
   ]
  },
  {
   "cell_type": "code",
   "execution_count": 64,
   "metadata": {},
   "outputs": [
    {
     "data": {
      "text/plain": [
       "tensor([[[[ 0.9395,  1.0641,  0.3440],\n",
       "          [ 0.3677,  0.2351, -1.2597],\n",
       "          [ 0.3056,  0.0020,  0.2651],\n",
       "          [-0.0344, -1.7146,  1.1489],\n",
       "          [-1.3257,  1.2709, -0.3341],\n",
       "          [-1.2552, -0.2155,  1.1634]]]])"
      ]
     },
     "execution_count": 64,
     "metadata": {},
     "output_type": "execute_result"
    }
   ],
   "source": [
    "c.reshape(1,1,6,3)"
   ]
  },
  {
   "cell_type": "code",
   "execution_count": 73,
   "metadata": {},
   "outputs": [
    {
     "name": "stdout",
     "output_type": "stream",
     "text": [
      "tensor([[-0.1287, -1.0688,  0.9372,  0.0701],\n",
      "        [ 0.6310, -0.4409,  0.9477, -1.9170],\n",
      "        [-1.5138,  0.7465, -0.4902,  1.5684]])\n",
      "tensor([[ 0.1882, -0.5668,  0.8773,  0.4107],\n",
      "        [-0.6995, -1.0611, -0.2847,  0.8241],\n",
      "        [-0.6709,  2.2328, -1.3086,  1.0862]])\n"
     ]
    }
   ],
   "source": [
    "a = torch.randn(2,3,4)\n",
    "for i in a[:,]:\n",
    "    print(i)"
   ]
  },
  {
   "cell_type": "code",
   "execution_count": 103,
   "metadata": {},
   "outputs": [
    {
     "name": "stdout",
     "output_type": "stream",
     "text": [
      "tensor([[[ 6.2814e-01,  3.5876e-02, -5.6434e-01,  1.1323e+00],\n",
      "         [-1.4727e+00, -2.5746e-01,  6.5216e-01, -1.2715e+00],\n",
      "         [ 1.9681e+00,  5.7480e+00, -3.5879e-01, -1.2408e+00],\n",
      "         [-1.4625e+00, -1.2430e+00,  1.1019e+00,  3.9845e+00],\n",
      "         [ 2.4519e-01,  2.0055e+00, -5.6868e-02,  7.5112e-01],\n",
      "         [-1.8110e+00, -4.7682e-01,  8.0064e-01, -2.8683e-01]],\n",
      "\n",
      "        [[ 2.3373e+00,  1.9925e+00,  1.8997e+00, -4.3554e+00],\n",
      "         [-1.4728e-02, -1.3740e+00, -3.2872e-03,  2.2454e+00],\n",
      "         [ 6.2883e-01,  1.4389e+00, -1.1982e+00, -1.2759e+00],\n",
      "         [-3.3762e+00,  2.1935e+00, -5.9742e+00,  2.1481e-01],\n",
      "         [-1.2529e+00, -5.8718e-01,  9.0496e-01,  3.6515e-02],\n",
      "         [-1.2825e+00,  1.9573e-02, -4.4704e+00,  2.7455e+00]]])\n"
     ]
    }
   ],
   "source": [
    "a = torch.randn(2, 6, 4)\n",
    "b = torch.randn(2, 4, 4)\n",
    "print(torch.matmul(a, b))  # 进行张量乘法"
   ]
  },
  {
   "cell_type": "code",
   "execution_count": 116,
   "metadata": {},
   "outputs": [
    {
     "name": "stdout",
     "output_type": "stream",
     "text": [
      "torch.Size([1, 23, 48, 48])\n"
     ]
    }
   ],
   "source": [
    "x = torch.randn(1,23,12,12)\n",
    "model = nn.ConvTranspose2d(23,23,4,4)\n",
    "print(model(x).shape)"
   ]
  },
  {
   "cell_type": "code",
   "execution_count": 127,
   "metadata": {},
   "outputs": [
    {
     "name": "stdout",
     "output_type": "stream",
     "text": [
      "torch.Size([1, 3, 48, 48])\n"
     ]
    }
   ],
   "source": [
    "model = nn.Conv2d(in_channels=3,out_channels=3,kernel_size=3,padding=3,dilation=3)\n",
    "x = torch.randn(1,3,48,48)\n",
    "print(model(x).shape)"
   ]
  },
  {
   "cell_type": "code",
   "execution_count": 171,
   "metadata": {},
   "outputs": [
    {
     "name": "stdout",
     "output_type": "stream",
     "text": [
      "torch.Size([1, 4, 3, 3, 2])\n",
      "torch.Size([1, 4, 9, 2])\n",
      "torch.Size([1, 4, 3, 3])\n"
     ]
    }
   ],
   "source": [
    "x = torch.randn(1,2,6,6)\n",
    "y = x.permute(0,2,3,1)\n",
    "#\n",
    "z = rearrange(y, \"b (j h) (i w) c -> b (j i) h w c\", j=2, i=2)\n",
    "print(z.shape)\n",
    "z1 = rearrange(z, \"b n hs ws c -> b n (hs ws) c\")\n",
    "print(z1.shape)\n",
    "\n",
    "#print(torch.mean(z1,dim=2).shape)\n",
    "print(z.max(4).values.shape)"
   ]
  },
  {
   "cell_type": "code",
   "execution_count": 145,
   "metadata": {},
   "outputs": [
    {
     "data": {
      "text/plain": [
       "torch.Size([1, 6, 6, 2])"
      ]
     },
     "execution_count": 145,
     "metadata": {},
     "output_type": "execute_result"
    }
   ],
   "source": [
    "y.shape"
   ]
  },
  {
   "cell_type": "code",
   "execution_count": 146,
   "metadata": {},
   "outputs": [
    {
     "name": "stdout",
     "output_type": "stream",
     "text": [
      "torch.Size([1, 4, 3, 3, 2])\n"
     ]
    }
   ],
   "source": [
    "print(z.shape)"
   ]
  },
  {
   "cell_type": "code",
   "execution_count": 173,
   "metadata": {},
   "outputs": [
    {
     "name": "stdout",
     "output_type": "stream",
     "text": [
      "torch.Size([1, 2, 3, 2])\n",
      "torch.Size([1, 2, 3, 2])\n"
     ]
    }
   ],
   "source": [
    "a = torch.randn(1,3,2)\n",
    "b = torch.randn(1,3,2)\n",
    "c = torch.stack([a,b],dim=1)\n",
    "d = c.view(1, 2, -1, 2)\n",
    "print(c.shape)\n",
    "print(d.shape)"
   ]
  },
  {
   "cell_type": "code",
   "execution_count": null,
   "metadata": {},
   "outputs": [],
   "source": [
    "def forward_corev1(self, x: torch.Tensor):\n",
    "        self.selective_scan = selective_scan_fn_v1\n",
    "\n",
    "        B, C, H, W = x.shape\n",
    "        L = H * W\n",
    "        K = 4\n",
    "\n",
    "        x_hwwh = torch.stack([x.view(B, -1, L), torch.transpose(x, dim0=2, dim1=3).contiguous().view(B, -1, L)], dim=1).view(B, 2, -1, L)\n",
    "        xs = torch.cat([x_hwwh, torch.flip(x_hwwh, dims=[-1])], dim=1) # (b, k, d, l)\n",
    "\n",
    "        x_dbl = torch.einsum(\"b k d l, k c d -> b k c l\", xs.view(B, K, -1, L), self.x_proj_weight)\n",
    "        # x_dbl = x_dbl + self.x_proj_bias.view(1, K, -1, 1)\n",
    "        dts, Bs, Cs = torch.split(x_dbl, [self.dt_rank, self.d_state, self.d_state], dim=2)\n",
    "        dts = torch.einsum(\"b k r l, k d r -> b k d l\", dts.view(B, K, -1, L), self.dt_projs_weight)\n",
    "        # dts = dts + self.dt_projs_bias.view(1, K, -1, 1)\n",
    "\n",
    "        xs = xs.view(B, -1, L) # (b, k * d, l)\n",
    "        dts = dts.contiguous().view(B, -1, L) # (b, k * d, l)\n",
    "        Bs = Bs.view(B, K, -1, L) # (b, k, d_state, l)\n",
    "        Cs = Cs.view(B, K, -1, L) # (b, k, d_state, l)\n",
    "\n",
    "        As = -torch.exp(self.A_logs.float()).view(-1, self.d_state)  # (k * d, d_state)\n",
    "        Ds = self.Ds.view(-1) # (k * d)\n",
    "        dt_projs_bias = self.dt_projs_bias.view(-1) # (k * d)\n",
    "\n",
    "        # print(self.Ds.dtype, self.A_logs.dtype, self.dt_projs_bias.dtype, flush=True) # fp16, fp16, fp16\n",
    "\n",
    "        out_y = self.selective_scan(\n",
    "            xs, dts,\n",
    "            As, Bs, Cs, Ds,\n",
    "            delta_bias=dt_projs_bias,\n",
    "            delta_softplus=True,\n",
    "        ).view(B, K, -1, L)\n",
    "        assert out_y.dtype == torch.float16\n",
    "\n",
    "        inv_y = torch.flip(out_y[:, 2:4], dims=[-1]).view(B, 2, -1, L)\n",
    "        wh_y = torch.transpose(out_y[:, 1].view(B, -1, W, H), dim0=2, dim1=3).contiguous().view(B, -1, L)\n",
    "        invwh_y = torch.transpose(inv_y[:, 1].view(B, -1, W, H), dim0=2, dim1=3).contiguous().view(B, -1, L)\n",
    "        y = out_y[:, 0].float() + inv_y[:, 0].float() + wh_y.float() + invwh_y.float()\n",
    "        y = torch.transpose(y, dim0=1, dim1=2).contiguous().view(B, H, W, -1)\n",
    "        y = self.out_norm(y).to(x.dtype)\n",
    "\n",
    "        return y"
   ]
  },
  {
   "cell_type": "code",
   "execution_count": null,
   "metadata": {},
   "outputs": [],
   "source": [
    "1"
   ]
  },
  {
   "cell_type": "code",
   "execution_count": 194,
   "metadata": {},
   "outputs": [
    {
     "name": "stdout",
     "output_type": "stream",
     "text": [
      "tensor([[[[[ 1.5960, -0.2897,  1.1526],\n",
      "           [ 0.4182, -1.0552, -0.2192],\n",
      "           [ 1.3945,  1.0091, -0.0091],\n",
      "           [ 1.1621, -1.1675, -0.1078]],\n",
      "\n",
      "          [[ 0.6773, -0.5330, -1.9899],\n",
      "           [ 0.2712,  1.7890,  1.6099],\n",
      "           [ 0.7526,  0.2639, -0.3864],\n",
      "           [-2.2052,  0.4431,  1.1777]]],\n",
      "\n",
      "\n",
      "         [[[-0.4460,  0.9134, -1.3479],\n",
      "           [ 0.4696, -0.2466,  0.7017],\n",
      "           [-0.6725, -0.9298,  0.5703],\n",
      "           [ 0.4514, -1.4434, -0.9434]],\n",
      "\n",
      "          [[-0.4729,  1.3449, -1.4216],\n",
      "           [-0.4286,  0.2768,  0.7340],\n",
      "           [-0.1975, -0.0506,  0.3823],\n",
      "           [ 0.3054, -0.8424,  0.1369]]],\n",
      "\n",
      "\n",
      "         [[[-0.7593, -0.5113,  1.3651],\n",
      "           [ 0.0711, -0.7994,  0.5936],\n",
      "           [-0.0641,  1.5573, -0.8700],\n",
      "           [ 0.0507,  0.1378,  0.3578]],\n",
      "\n",
      "          [[-0.3581,  0.5776, -1.7871],\n",
      "           [-0.6408, -2.1775,  0.0512],\n",
      "           [ 0.4071, -1.1770, -1.0695],\n",
      "           [-0.3540, -1.0241, -0.4422]]],\n",
      "\n",
      "\n",
      "         [[[-0.5419,  0.3260, -0.3682],\n",
      "           [-0.6242,  0.3076,  1.4237],\n",
      "           [-0.8909, -0.3231,  0.5255],\n",
      "           [ 1.0857,  0.1600, -2.7995]],\n",
      "\n",
      "          [[-0.6299,  1.4888, -0.2925],\n",
      "           [-0.2086, -0.5710, -0.2270],\n",
      "           [-0.6023,  1.7048,  1.3591],\n",
      "           [ 0.0874, -0.3920, -0.7552]]]]])\n"
     ]
    }
   ],
   "source": [
    "n_h=2\n",
    "n_w=2\n",
    "hs,ws = 2,2\n",
    "topk=2\n",
    "c=3\n",
    "b=1\n",
    "\n",
    "# (b, nh*nw, topk, hs*ws, v_C)\n",
    "x = torch.randn(b,n_h*n_w, topk, hs*ws, c)\n",
    "print(x)\n",
    "# (b, nh*nw, hs*ws, topk*v_C)\n",
    "y = x.transpose(2,3).reshape(b, n_h*n_w, hs*ws, -1)\n",
    "y = rearrange(y, \"b (n_h n_w) (hs ws) c -> b (n_h hs) (n_w ws) c\", n_h=n_h,n_w=n_w, hs=hs,ws=ws)"
   ]
  },
  {
   "cell_type": "code",
   "execution_count": 195,
   "metadata": {},
   "outputs": [
    {
     "name": "stdout",
     "output_type": "stream",
     "text": [
      "tensor([[[[ 1.5960, -0.2897,  1.1526,  0.6773, -0.5330, -1.9899],\n",
      "          [ 0.4182, -1.0552, -0.2192,  0.2712,  1.7890,  1.6099],\n",
      "          [-0.4460,  0.9134, -1.3479, -0.4729,  1.3449, -1.4216],\n",
      "          [ 0.4696, -0.2466,  0.7017, -0.4286,  0.2768,  0.7340]],\n",
      "\n",
      "         [[ 1.3945,  1.0091, -0.0091,  0.7526,  0.2639, -0.3864],\n",
      "          [ 1.1621, -1.1675, -0.1078, -2.2052,  0.4431,  1.1777],\n",
      "          [-0.6725, -0.9298,  0.5703, -0.1975, -0.0506,  0.3823],\n",
      "          [ 0.4514, -1.4434, -0.9434,  0.3054, -0.8424,  0.1369]],\n",
      "\n",
      "         [[-0.7593, -0.5113,  1.3651, -0.3581,  0.5776, -1.7871],\n",
      "          [ 0.0711, -0.7994,  0.5936, -0.6408, -2.1775,  0.0512],\n",
      "          [-0.5419,  0.3260, -0.3682, -0.6299,  1.4888, -0.2925],\n",
      "          [-0.6242,  0.3076,  1.4237, -0.2086, -0.5710, -0.2270]],\n",
      "\n",
      "         [[-0.0641,  1.5573, -0.8700,  0.4071, -1.1770, -1.0695],\n",
      "          [ 0.0507,  0.1378,  0.3578, -0.3540, -1.0241, -0.4422],\n",
      "          [-0.8909, -0.3231,  0.5255, -0.6023,  1.7048,  1.3591],\n",
      "          [ 1.0857,  0.1600, -2.7995,  0.0874, -0.3920, -0.7552]]]])\n"
     ]
    }
   ],
   "source": [
    "print(y)"
   ]
  },
  {
   "cell_type": "code",
   "execution_count": null,
   "metadata": {},
   "outputs": [],
   "source": []
  }
 ],
 "metadata": {
  "kernelspec": {
   "display_name": "BasicSR",
   "language": "python",
   "name": "python3"
  },
  "language_info": {
   "codemirror_mode": {
    "name": "ipython",
    "version": 3
   },
   "file_extension": ".py",
   "mimetype": "text/x-python",
   "name": "python",
   "nbconvert_exporter": "python",
   "pygments_lexer": "ipython3",
   "version": "3.9.18"
  }
 },
 "nbformat": 4,
 "nbformat_minor": 2
}
