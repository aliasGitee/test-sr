{
 "cells": [
  {
   "cell_type": "code",
   "execution_count": 1,
   "metadata": {},
   "outputs": [
    {
     "data": {
      "text/plain": [
       "torch.Size([1, 3, 3, 3])"
      ]
     },
     "execution_count": 1,
     "metadata": {},
     "output_type": "execute_result"
    }
   ],
   "source": [
    "import torch\n",
    "import torch.nn as nn\n",
    "import torch.nn.functional as F\n",
    "\n",
    "x = torch.randn(1,3,9,9)\n",
    "y = F.interpolate(x,size=3,mode='bilinear')\n",
    "y.shape"
   ]
  },
  {
   "cell_type": "code",
   "execution_count": 22,
   "metadata": {},
   "outputs": [
    {
     "name": "stdout",
     "output_type": "stream",
     "text": [
      "torch.Size([3, 1, 6, 6])\n"
     ]
    }
   ],
   "source": [
    "a = torch.randn(1,3,2,2)\n",
    "model = nn.ConvTranspose2d(in_channels=3,out_channels=1,kernel_size=6,stride=2,padding=2)\n",
    "print(model.weight.shape)"
   ]
  },
  {
   "cell_type": "code",
   "execution_count": 24,
   "metadata": {},
   "outputs": [
    {
     "name": "stdout",
     "output_type": "stream",
     "text": [
      "torch.Size([3, 1, 1, 1])\n"
     ]
    }
   ],
   "source": [
    "model2 = nn.Conv2d(in_channels=1,out_channels=3,stride=1,kernel_size=1,padding=0)\n",
    "print(model2.weight.shape)"
   ]
  },
  {
   "cell_type": "code",
   "execution_count": 25,
   "metadata": {},
   "outputs": [
    {
     "name": "stdout",
     "output_type": "stream",
     "text": [
      "torch.Size([1, 16, 192, 192])\n"
     ]
    }
   ],
   "source": [
    "model = nn.ConvTranspose2d(in_channels=3,out_channels=16,kernel_size=4*2,stride=4,padding=4//2)\n",
    "x = torch.randn(1,3,48,48)\n",
    "print(model(x).shape)"
   ]
  },
  {
   "cell_type": "code",
   "execution_count": 13,
   "metadata": {},
   "outputs": [
    {
     "name": "stdout",
     "output_type": "stream",
     "text": [
      "torch.Size([1, 3, 48, 48])\n"
     ]
    }
   ],
   "source": [
    "model = nn.Conv2d(in_channels=3,out_channels=3,kernel_size=3,stride=1,padding=1,dilation=1)\n",
    "x=torch.randn(1,3,48,48)\n",
    "print(model(x).shape)"
   ]
  },
  {
   "cell_type": "code",
   "execution_count": 7,
   "metadata": {},
   "outputs": [
    {
     "data": {
      "text/plain": [
       "tensor([[0.0324, 0.0023, 0.0108, 0.0072],\n",
       "        [0.0022, 0.0063, 0.0203, 0.0887],\n",
       "        [0.0059, 0.0009, 0.0041, 0.0295],\n",
       "        [0.0153, 0.0057, 0.0821, 0.0229]])"
      ]
     },
     "execution_count": 7,
     "metadata": {},
     "output_type": "execute_result"
    }
   ],
   "source": [
    "x = torch.randn(1,64,4,4)\n",
    "y = F.softmax(x,dim=1)\n",
    "y[0,0,:,:]"
   ]
  },
  {
   "cell_type": "code",
   "execution_count": 19,
   "metadata": {},
   "outputs": [
    {
     "name": "stdout",
     "output_type": "stream",
     "text": [
      "tensor([[[[ 0.7692,  0.8337]],\n",
      "\n",
      "         [[-0.7597,  1.2409]],\n",
      "\n",
      "         [[-0.2799, -0.4478]],\n",
      "\n",
      "         [[-1.6583,  0.8637]],\n",
      "\n",
      "         [[-0.2476, -1.6542]],\n",
      "\n",
      "         [[-1.2074,  1.1537]]]])\n",
      "tensor([[[[ 0.7692,  0.8337]],\n",
      "\n",
      "         [[-1.6583,  0.8637]],\n",
      "\n",
      "         [[-0.7597,  1.2409]],\n",
      "\n",
      "         [[-0.2476, -1.6542]],\n",
      "\n",
      "         [[-0.2799, -0.4478]],\n",
      "\n",
      "         [[-1.2074,  1.1537]]]])\n"
     ]
    }
   ],
   "source": [
    "a = torch.randn(1,6,1,2)\n",
    "print(a)\n",
    "b = F.channel_shuffle(a,2)\n",
    "print(b)"
   ]
  },
  {
   "cell_type": "code",
   "execution_count": 27,
   "metadata": {},
   "outputs": [
    {
     "data": {
      "text/plain": [
       "torch.Size([1, 4, 4, 10])"
      ]
     },
     "execution_count": 27,
     "metadata": {},
     "output_type": "execute_result"
    }
   ],
   "source": [
    "x = torch.randn(1,4,4,9)\n",
    "y = F.pad(x, (0,1), mode=\"constant\", value=1)\n",
    "y.shape"
   ]
  },
  {
   "cell_type": "code",
   "execution_count": 31,
   "metadata": {},
   "outputs": [
    {
     "data": {
      "text/plain": [
       "tensor([[[[ 1.9643]],\n",
       "\n",
       "         [[ 0.6037]],\n",
       "\n",
       "         [[-0.1409]],\n",
       "\n",
       "         [[-0.9078]],\n",
       "\n",
       "         [[-0.2933]],\n",
       "\n",
       "         [[-1.6091]],\n",
       "\n",
       "         [[-0.9777]],\n",
       "\n",
       "         [[ 0.4756]],\n",
       "\n",
       "         [[ 1.0614]],\n",
       "\n",
       "         [[-0.6278]],\n",
       "\n",
       "         [[ 0.5207]],\n",
       "\n",
       "         [[ 0.0545]]]])"
      ]
     },
     "execution_count": 31,
     "metadata": {},
     "output_type": "execute_result"
    }
   ],
   "source": [
    "a = torch.randn(1,12,1,1)\n",
    "a"
   ]
  },
  {
   "cell_type": "code",
   "execution_count": 32,
   "metadata": {},
   "outputs": [
    {
     "data": {
      "text/plain": [
       "tensor([[[[[ 1.9643]],\n",
       "\n",
       "          [[ 0.6037]],\n",
       "\n",
       "          [[-0.1409]]],\n",
       "\n",
       "\n",
       "         [[[-0.9078]],\n",
       "\n",
       "          [[-0.2933]],\n",
       "\n",
       "          [[-1.6091]]],\n",
       "\n",
       "\n",
       "         [[[-0.9777]],\n",
       "\n",
       "          [[ 0.4756]],\n",
       "\n",
       "          [[ 1.0614]]],\n",
       "\n",
       "\n",
       "         [[[-0.6278]],\n",
       "\n",
       "          [[ 0.5207]],\n",
       "\n",
       "          [[ 0.0545]]]]])"
      ]
     },
     "execution_count": 32,
     "metadata": {},
     "output_type": "execute_result"
    }
   ],
   "source": [
    "a.reshape(1,4,3,1,1)"
   ]
  },
  {
   "cell_type": "code",
   "execution_count": null,
   "metadata": {},
   "outputs": [],
   "source": []
  }
 ],
 "metadata": {
  "kernelspec": {
   "display_name": "BasicSR",
   "language": "python",
   "name": "python3"
  },
  "language_info": {
   "codemirror_mode": {
    "name": "ipython",
    "version": 3
   },
   "file_extension": ".py",
   "mimetype": "text/x-python",
   "name": "python",
   "nbconvert_exporter": "python",
   "pygments_lexer": "ipython3",
   "version": "3.9.18"
  }
 },
 "nbformat": 4,
 "nbformat_minor": 2
}
